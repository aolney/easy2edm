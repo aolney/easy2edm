{
 "cells": [
  {
   "cell_type": "markdown",
   "id": "e9b69c0e",
   "metadata": {},
   "source": [
    "# easy2edm\n",
    "\n",
    "This notebook creates proceedings for the [International Conference on Educational Data Mining](https://educationaldatamining.org/conferences/) using reviewing data from [EasyChair](https://easychair.org).\n",
    "\n",
    "See the [README](README.md) for how to download and structure the data."
   ]
  },
  {
   "cell_type": "code",
   "execution_count": 7,
   "id": "1e3676cd",
   "metadata": {},
   "outputs": [],
   "source": [
    "# easy2acl.py - Convert data from EasyChair for use with ACLPUB\n",
    "#\n",
    "# Original Author: Nils Blomqvist\n",
    "# Forked/modified by: Asad Sayeed\n",
    "# Further modifications and docs (for 2019 Anthology): Matt Post\n",
    "# Index for LaTeX book proceedings: Mehdi Ghanimifard and Simon Dobnik\n",
    "# Modified for EDM by Andrew Olney \n",
    "# Please see the documentation in the README file at http://github.com/acl-org/easy2acl.\n",
    "\n",
    "import os\n",
    "import re\n",
    "import sys\n",
    "\n",
    "from csv import DictReader\n",
    "from glob import glob\n",
    "from shutil import copy, rmtree\n",
    "from unicode_tex import unicode_to_tex\n",
    "from pybtex.database import BibliographyData, Entry\n",
    "from PyPDF2 import PdfFileReader\n",
    "from functools import cmp_to_key\n",
    "\n",
    "# Specify conference tracks  here IN PROCEEDINGS ORDER\n",
    "tracks =  ['long-papers','short-papers','posters','doctoral-consortium','industry-track']\n",
    "\n",
    "# specify decision types here\n",
    "decisions = {\n",
    "    \"Accept in current track\" : None,\n",
    "    \"Accept+move to short\" :\"short-papers\",\n",
    "    \"Accept+move to posters\":\"posters\",\n",
    "    \"ACCEPT\":None\n",
    "}\n",
    "\n",
    "# for later sorting papers by track\n",
    "# (submission_id, title, authors, track)\n",
    "track_order = ['front'] + tracks \n",
    "def paper_cmp(a, b):\n",
    "    if track_order.index(a[3]) > track_order.index(b[3]):\n",
    "        return 1\n",
    "    elif a[3] == b[3]:\n",
    "        if int(a[0]) > int(b[0]):\n",
    "            return 1\n",
    "        else:\n",
    "            return -1\n",
    "    else:\n",
    "        return -1\n",
    "paper_cmp_key = cmp_to_key(paper_cmp)\n",
    "\n",
    "def texify(string):\n",
    "    \"\"\"Return a modified version of the argument string where non-ASCII symbols have\n",
    "    been converted into LaTeX escape codes.\n",
    "\n",
    "    \"\"\"\n",
    "    return ' '.join(map(unicode_to_tex, string.split())).replace(r'\\textquotesingle', \"'\")\n",
    "\n",
    "def get_track_metadata(directory):\n",
    "    #,----\n",
    "    #| Metadata\n",
    "    #`----\n",
    "    metadata = { 'chairs': [] }\n",
    "    with open(os.path.join(directory, 'meta')) as metadata_file:\n",
    "        for line in metadata_file:\n",
    "            key, value = line.rstrip().split(maxsplit=1)\n",
    "            if key == 'chairs':\n",
    "                metadata[key].append(value)\n",
    "            else:\n",
    "                metadata[key] = value\n",
    "\n",
    "    for key in 'abbrev volume title shortbooktitle booktitle month year location publisher chairs'.split():\n",
    "        if key not in metadata:\n",
    "            print('Fatal: missing key \"{}\" from \"meta\" file'.format(key))\n",
    "            print(\"Please see the documentation at https://acl-org.github.io/ACLPUB/anthology.html.\")\n",
    "            sys.exit(1)\n",
    "\n",
    "    for key in \"bib_url volume_name short_booktitle type\".split():\n",
    "        if key in metadata:\n",
    "            print('Fatal: bad key \"{}\" in the \"meta\" file'.format(key))\n",
    "            print(\"Please see the documentation at https://acl-org.github.io/ACLPUB/anthology.html.\")\n",
    "            sys.exit(1)\n",
    "\n",
    "    venue = metadata[\"abbrev\"]\n",
    "    volume_name = metadata[\"volume\"]\n",
    "    year = metadata[\"year\"]\n",
    "    return metadata\n",
    "\n",
    "def collect_track_metadata():\n",
    "    metadata ={}\n",
    "    for d in tracks :\n",
    "        metadata[d] = get_track_metadata(d)\n",
    "    return metadata\n",
    "\n",
    "# Across all tracks, build a dictionary of submissions (which has author \n",
    "# information). We do this across tracks because some submissions have \n",
    "# decisions that move them to other tracks \n",
    "\n",
    "def collect_submissions_and_acceptances( decision_map, metadata ):\n",
    "    submissions = {}\n",
    "    for d in tracks :\n",
    "        with open(os.path.join(d, 'submissions')) as submissions_file:\n",
    "            for line in submissions_file:\n",
    "                entry = line.rstrip().split(\"\\t\")\n",
    "                submission_id = entry[0]\n",
    "                authors = entry[1].replace(' and', ',').split(', ')\n",
    "                title = entry[2]\n",
    "\n",
    "                submissions[submission_id] = (title, authors)\n",
    "            print(\"Found \", len(submissions), \" submitted files in \", d)\n",
    "\n",
    "    #\n",
    "    # Append each accepted submission, as a tuple, to the 'accepted' list.\n",
    "    # Order in this file is used to determine program order.\n",
    "    #\n",
    "    accepted = []\n",
    "    for d in tracks :\n",
    "        with open(os.path.join(d, 'accepted')) as accepted_file:\n",
    "            for line in accepted_file:\n",
    "                entry = line.rstrip().split(\"\\t\")\n",
    "                # modified here to filter out the rejected files rather than doing\n",
    "                # that by hand\n",
    "                #if entry[-1] == 'ACCEPT':\n",
    "                if entry[-1] in decision_map:\n",
    "                    #print(d)\n",
    "                    submission_id = entry[0]\n",
    "                    title = entry[1]\n",
    "                    authors = submissions[submission_id][1]\n",
    "                    # if we defined an explicit mapping, use it\n",
    "                    if decision_map[ entry[-1] ]:\n",
    "                        track = decision_map[ entry[-1] ]\n",
    "                    # otherwise we should place in current track\n",
    "                    else:\n",
    "                        track = d\n",
    "\n",
    "                    accepted.append((submission_id, title, authors, track))\n",
    "            print(\"Found \", len(accepted), \" accepted files in \", d)\n",
    "\n",
    "    # Read abstracts\n",
    "    abstracts = {}\n",
    "    for d in tracks :\n",
    "        if os.path.exists(os.path.join(d, 'submission.csv')):\n",
    "            with open(os.path.join(d, 'submission.csv')) as csv_file:\n",
    "                d = DictReader(csv_file)\n",
    "                for row in d:\n",
    "                    abstracts[row['#']] = row['abstract']\n",
    "            print('Found ', len(abstracts), 'abstracts in ',d)\n",
    "        else:\n",
    "            print('No abstracts available.')\n",
    "\n",
    "    #\n",
    "    # Find all relevant PDFs\n",
    "    #\n",
    "    venue = metadata['long-papers'][\"abbrev\"]\n",
    "    year = metadata['long-papers'][\"year\"]\n",
    "    booktitle = metadata['long-papers']['booktitle']\n",
    "    chairs = metadata['long-papers']['chairs']\n",
    "    \n",
    "    # The PDF of the full proceedings\n",
    "    full_pdf_file = 'pdf/{}_{}.pdf'.format(venue, year)\n",
    "    if not os.path.exists(full_pdf_file):\n",
    "        print(\"Fatal: could not find full volume PDF '{}'\".format(full_pdf_file))\n",
    "        sys.exit(1)\n",
    "\n",
    "    # The PDF of the frontmatter\n",
    "    frontmatter_pdf_file = 'pdf/{}_{}_frontmatter.pdf'.format(venue, year)\n",
    "    if not os.path.exists(frontmatter_pdf_file):\n",
    "        print(\"Fatal: could not find frontmatter PDF file '{}'\".format(frontmatter_pdf_file))\n",
    "        sys.exit(1)\n",
    "\n",
    "    # File locations of all PDFs (seeded with PDF for frontmatter)\n",
    "    pdfs = { '0': frontmatter_pdf_file }\n",
    "    for d in tracks :\n",
    "        for pdf_file in glob(os.path.join(d,'pdf/{}_{}_paper_*.pdf'.format(venue, year))):\n",
    "            submission_id = pdf_file.split('_')[-1].replace('.pdf', '')\n",
    "            pdfs[submission_id] = pdf_file\n",
    "\n",
    "    # List of accepted papers (seeded with frontmatter)\n",
    "    accepted.insert(0, ('0', booktitle, chairs, 'front'))\n",
    "    return (submissions, accepted, abstracts, pdfs)\n",
    "\n",
    "#\n",
    "# Create Anthology tarball\n",
    "#\n",
    "\n",
    "def render_bibtex_and_track_assigned_pdf(metadata, submissions, accepted, abstracts, pdfs):\n",
    "    \n",
    "\n",
    "    # All this information is shared across tracks, so we can use long-papers\n",
    "    venue = metadata['long-papers'][\"abbrev\"]\n",
    "    year = metadata['long-papers'][\"year\"]\n",
    "    booktitle = metadata['long-papers']['booktitle']\n",
    "    chairs = metadata['long-papers']['chairs']\n",
    "    # volume name is track name\n",
    "    #volume_name = metadata['long-papers'][\"volume\"]\n",
    "    location = metadata['long-papers'][\"location\"]\n",
    "    publisher = metadata['long-papers'][\"publisher\"]\n",
    "    month= metadata['long-papers'][\"month\"]\n",
    "    \n",
    "    # Create destination directories\n",
    "    for dir in ['bib', 'pdf']:\n",
    "        dest_dir = os.path.join('proceedings/cdrom', dir)\n",
    "        if not os.path.exists(dest_dir):\n",
    "            os.makedirs(dest_dir)\n",
    "\n",
    "    # Copy over \"meta\" file\n",
    "    print('COPYING long papers meta -> proceedings/meta', file=sys.stderr)\n",
    "    copy('long-papers/meta', 'proceedings/meta')\n",
    "\n",
    "    final_bibs = []\n",
    "    start_page = 1\n",
    "    acepted = accepted.sort(key=paper_cmp_key)\n",
    "    for paper_id, entry in enumerate(accepted):\n",
    "        #print( entry)\n",
    "        submission_id, paper_title, authors, track = entry\n",
    "        authors = ' and '.join(authors)\n",
    "        if not submission_id in pdfs:\n",
    "            print('Fatal: no PDF found for paper', paper_id, file=sys.stderr)\n",
    "            sys.exit(1)\n",
    "\n",
    "        pdf_path = pdfs[submission_id]\n",
    "        dest_path = 'proceedings/cdrom/pdf/{}.{}-{}.{}.pdf'.format(year, venue,track, paper_id)\n",
    "\n",
    "        copy(pdf_path, dest_path)\n",
    "        print('COPYING', pdf_path, '->', dest_path, file=sys.stderr)\n",
    "\n",
    "        bib_path = dest_path.replace('pdf', 'bib')\n",
    "        if not os.path.exists(os.path.dirname(bib_path)):\n",
    "            os.makedirs(os.path.dirname(bib_path))\n",
    "\n",
    "        anthology_id = os.path.basename(dest_path).replace('.pdf', '')\n",
    "\n",
    "        bib_type = 'inproceedings' if submission_id != '0' else 'proceedings'\n",
    "        bib_entry = Entry(bib_type, [\n",
    "            ('author', authors),\n",
    "            ('title', paper_title),\n",
    "            ('year', year ),\n",
    "            ('month',month),\n",
    "            ('address', location),\n",
    "            ('publisher', publisher),\n",
    "        ])\n",
    "\n",
    "        # Add page range if not frontmatter\n",
    "        if paper_id > 0:\n",
    "            with open(pdf_path, 'rb') as in_:\n",
    "                file = PdfFileReader(in_)\n",
    "                last_page = start_page + file.getNumPages() - 1\n",
    "                bib_entry.fields['pages'] = '{}--{}'.format(start_page, last_page)\n",
    "                start_page = last_page + 1\n",
    "\n",
    "        # Add the abstract if present\n",
    "        if submission_id in abstracts:\n",
    "            bib_entry.fields['abstract'] = abstracts.get(submission_id)\n",
    "\n",
    "        # Add booktitle for non-proceedings entries\n",
    "        if bib_type == 'inproceedings':\n",
    "            bib_entry.fields['booktitle'] = booktitle\n",
    "\n",
    "        try:\n",
    "            bib_string = BibliographyData({ anthology_id: bib_entry }).to_string('bibtex')\n",
    "        except TypeError as e:\n",
    "            print('Fatal: Error in BibTeX-encoding paper', submission_id, file=sys.stderr)\n",
    "            sys.exit(1)\n",
    "        final_bibs.append(bib_string)\n",
    "        with open(bib_path, 'w') as out_bib:\n",
    "            print(bib_string, file=out_bib)\n",
    "            print('CREATED', bib_path)"
   ]
  },
  {
   "cell_type": "code",
   "execution_count": 9,
   "id": "0ef18b63",
   "metadata": {},
   "outputs": [
    {
     "name": "stdout",
     "output_type": "stream",
     "text": [
      "Found  90  submitted files in  long-papers\n",
      "Found  146  submitted files in  short-papers\n",
      "Found  166  submitted files in  posters\n",
      "Found  179  submitted files in  doctoral-consortium\n",
      "Found  185  submitted files in  industry-track\n",
      "Found  52  accepted files in  long-papers\n",
      "Found  89  accepted files in  short-papers\n",
      "Found  99  accepted files in  posters\n",
      "Found  108  accepted files in  doctoral-consortium\n",
      "Found  112  accepted files in  industry-track\n",
      "Found  90 abstracts in  <csv.DictReader object at 0x7f2dbb959ad0>\n",
      "Found  146 abstracts in  <csv.DictReader object at 0x7f2dbb959a50>\n",
      "Found  166 abstracts in  <csv.DictReader object at 0x7f2dbb91e050>\n",
      "Found  179 abstracts in  <csv.DictReader object at 0x7f2dbb959a50>\n",
      "Found  185 abstracts in  <csv.DictReader object at 0x7f2dbb91e050>\n"
     ]
    },
    {
     "name": "stderr",
     "output_type": "stream",
     "text": [
      "COPYING long papers meta -> proceedings/meta\n",
      "COPYING pdf/EDM_2022_frontmatter.pdf -> proceedings/cdrom/pdf/2022.EDM-front.0.pdf\n"
     ]
    },
    {
     "name": "stdout",
     "output_type": "stream",
     "text": [
      "CREATED proceedings/cdrom/bib/2022.EDM-front.0.bib\n"
     ]
    },
    {
     "name": "stderr",
     "output_type": "stream",
     "text": [
      "COPYING long-papers/pdf/EDM_2022_paper_7.pdf -> proceedings/cdrom/pdf/2022.EDM-long-papers.1.pdf\n"
     ]
    },
    {
     "name": "stdout",
     "output_type": "stream",
     "text": [
      "CREATED proceedings/cdrom/bib/2022.EDM-long-papers.1.bib\n"
     ]
    },
    {
     "name": "stderr",
     "output_type": "stream",
     "text": [
      "COPYING long-papers/pdf/EDM_2022_paper_10.pdf -> proceedings/cdrom/pdf/2022.EDM-long-papers.2.pdf\n"
     ]
    },
    {
     "name": "stdout",
     "output_type": "stream",
     "text": [
      "CREATED proceedings/cdrom/bib/2022.EDM-long-papers.2.bib\n"
     ]
    },
    {
     "name": "stderr",
     "output_type": "stream",
     "text": [
      "COPYING long-papers/pdf/EDM_2022_paper_12.pdf -> proceedings/cdrom/pdf/2022.EDM-long-papers.3.pdf\n"
     ]
    },
    {
     "name": "stdout",
     "output_type": "stream",
     "text": [
      "CREATED proceedings/cdrom/bib/2022.EDM-long-papers.3.bib\n"
     ]
    },
    {
     "name": "stderr",
     "output_type": "stream",
     "text": [
      "COPYING long-papers/pdf/EDM_2022_paper_18.pdf -> proceedings/cdrom/pdf/2022.EDM-long-papers.4.pdf\n"
     ]
    },
    {
     "name": "stdout",
     "output_type": "stream",
     "text": [
      "CREATED proceedings/cdrom/bib/2022.EDM-long-papers.4.bib\n"
     ]
    },
    {
     "name": "stderr",
     "output_type": "stream",
     "text": [
      "COPYING long-papers/pdf/EDM_2022_paper_21.pdf -> proceedings/cdrom/pdf/2022.EDM-long-papers.5.pdf\n"
     ]
    },
    {
     "name": "stdout",
     "output_type": "stream",
     "text": [
      "CREATED proceedings/cdrom/bib/2022.EDM-long-papers.5.bib\n"
     ]
    },
    {
     "name": "stderr",
     "output_type": "stream",
     "text": [
      "COPYING long-papers/pdf/EDM_2022_paper_22.pdf -> proceedings/cdrom/pdf/2022.EDM-long-papers.6.pdf\n"
     ]
    },
    {
     "name": "stdout",
     "output_type": "stream",
     "text": [
      "CREATED proceedings/cdrom/bib/2022.EDM-long-papers.6.bib\n"
     ]
    },
    {
     "name": "stderr",
     "output_type": "stream",
     "text": [
      "COPYING long-papers/pdf/EDM_2022_paper_35.pdf -> proceedings/cdrom/pdf/2022.EDM-long-papers.7.pdf\n"
     ]
    },
    {
     "name": "stdout",
     "output_type": "stream",
     "text": [
      "CREATED proceedings/cdrom/bib/2022.EDM-long-papers.7.bib\n"
     ]
    },
    {
     "name": "stderr",
     "output_type": "stream",
     "text": [
      "COPYING long-papers/pdf/EDM_2022_paper_37.pdf -> proceedings/cdrom/pdf/2022.EDM-long-papers.8.pdf\n"
     ]
    },
    {
     "name": "stdout",
     "output_type": "stream",
     "text": [
      "CREATED proceedings/cdrom/bib/2022.EDM-long-papers.8.bib\n"
     ]
    },
    {
     "name": "stderr",
     "output_type": "stream",
     "text": [
      "COPYING long-papers/pdf/EDM_2022_paper_51.pdf -> proceedings/cdrom/pdf/2022.EDM-long-papers.9.pdf\n"
     ]
    },
    {
     "name": "stdout",
     "output_type": "stream",
     "text": [
      "CREATED proceedings/cdrom/bib/2022.EDM-long-papers.9.bib\n"
     ]
    },
    {
     "name": "stderr",
     "output_type": "stream",
     "text": [
      "COPYING long-papers/pdf/EDM_2022_paper_53.pdf -> proceedings/cdrom/pdf/2022.EDM-long-papers.10.pdf\n"
     ]
    },
    {
     "name": "stdout",
     "output_type": "stream",
     "text": [
      "CREATED proceedings/cdrom/bib/2022.EDM-long-papers.10.bib\n"
     ]
    },
    {
     "name": "stderr",
     "output_type": "stream",
     "text": [
      "COPYING long-papers/pdf/EDM_2022_paper_54.pdf -> proceedings/cdrom/pdf/2022.EDM-long-papers.11.pdf\n"
     ]
    },
    {
     "name": "stdout",
     "output_type": "stream",
     "text": [
      "CREATED proceedings/cdrom/bib/2022.EDM-long-papers.11.bib\n"
     ]
    },
    {
     "name": "stderr",
     "output_type": "stream",
     "text": [
      "COPYING long-papers/pdf/EDM_2022_paper_55.pdf -> proceedings/cdrom/pdf/2022.EDM-long-papers.12.pdf\n"
     ]
    },
    {
     "name": "stdout",
     "output_type": "stream",
     "text": [
      "CREATED proceedings/cdrom/bib/2022.EDM-long-papers.12.bib\n"
     ]
    },
    {
     "name": "stderr",
     "output_type": "stream",
     "text": [
      "COPYING long-papers/pdf/EDM_2022_paper_56.pdf -> proceedings/cdrom/pdf/2022.EDM-long-papers.13.pdf\n"
     ]
    },
    {
     "name": "stdout",
     "output_type": "stream",
     "text": [
      "CREATED proceedings/cdrom/bib/2022.EDM-long-papers.13.bib\n"
     ]
    },
    {
     "name": "stderr",
     "output_type": "stream",
     "text": [
      "COPYING long-papers/pdf/EDM_2022_paper_62.pdf -> proceedings/cdrom/pdf/2022.EDM-long-papers.14.pdf\n"
     ]
    },
    {
     "name": "stdout",
     "output_type": "stream",
     "text": [
      "CREATED proceedings/cdrom/bib/2022.EDM-long-papers.14.bib\n"
     ]
    },
    {
     "name": "stderr",
     "output_type": "stream",
     "text": [
      "COPYING long-papers/pdf/EDM_2022_paper_63.pdf -> proceedings/cdrom/pdf/2022.EDM-long-papers.15.pdf\n"
     ]
    },
    {
     "name": "stdout",
     "output_type": "stream",
     "text": [
      "CREATED proceedings/cdrom/bib/2022.EDM-long-papers.15.bib\n"
     ]
    },
    {
     "name": "stderr",
     "output_type": "stream",
     "text": [
      "COPYING long-papers/pdf/EDM_2022_paper_78.pdf -> proceedings/cdrom/pdf/2022.EDM-long-papers.16.pdf\n"
     ]
    },
    {
     "name": "stdout",
     "output_type": "stream",
     "text": [
      "CREATED proceedings/cdrom/bib/2022.EDM-long-papers.16.bib\n"
     ]
    },
    {
     "name": "stderr",
     "output_type": "stream",
     "text": [
      "COPYING long-papers/pdf/EDM_2022_paper_80.pdf -> proceedings/cdrom/pdf/2022.EDM-long-papers.17.pdf\n"
     ]
    },
    {
     "name": "stdout",
     "output_type": "stream",
     "text": [
      "CREATED proceedings/cdrom/bib/2022.EDM-long-papers.17.bib\n"
     ]
    },
    {
     "name": "stderr",
     "output_type": "stream",
     "text": [
      "COPYING long-papers/pdf/EDM_2022_paper_84.pdf -> proceedings/cdrom/pdf/2022.EDM-long-papers.18.pdf\n"
     ]
    },
    {
     "name": "stdout",
     "output_type": "stream",
     "text": [
      "CREATED proceedings/cdrom/bib/2022.EDM-long-papers.18.bib\n"
     ]
    },
    {
     "name": "stderr",
     "output_type": "stream",
     "text": [
      "COPYING long-papers/pdf/EDM_2022_paper_94.pdf -> proceedings/cdrom/pdf/2022.EDM-long-papers.19.pdf\n"
     ]
    },
    {
     "name": "stdout",
     "output_type": "stream",
     "text": [
      "CREATED proceedings/cdrom/bib/2022.EDM-long-papers.19.bib\n"
     ]
    },
    {
     "name": "stderr",
     "output_type": "stream",
     "text": [
      "COPYING long-papers/pdf/EDM_2022_paper_108.pdf -> proceedings/cdrom/pdf/2022.EDM-long-papers.20.pdf\n"
     ]
    },
    {
     "name": "stdout",
     "output_type": "stream",
     "text": [
      "CREATED proceedings/cdrom/bib/2022.EDM-long-papers.20.bib\n"
     ]
    },
    {
     "name": "stderr",
     "output_type": "stream",
     "text": [
      "COPYING long-papers/pdf/EDM_2022_paper_109.pdf -> proceedings/cdrom/pdf/2022.EDM-long-papers.21.pdf\n"
     ]
    },
    {
     "name": "stdout",
     "output_type": "stream",
     "text": [
      "CREATED proceedings/cdrom/bib/2022.EDM-long-papers.21.bib\n"
     ]
    },
    {
     "name": "stderr",
     "output_type": "stream",
     "text": [
      "COPYING long-papers/pdf/EDM_2022_paper_125.pdf -> proceedings/cdrom/pdf/2022.EDM-long-papers.22.pdf\n"
     ]
    },
    {
     "name": "stdout",
     "output_type": "stream",
     "text": [
      "CREATED proceedings/cdrom/bib/2022.EDM-long-papers.22.bib\n"
     ]
    },
    {
     "name": "stderr",
     "output_type": "stream",
     "text": [
      "COPYING long-papers/pdf/EDM_2022_paper_133.pdf -> proceedings/cdrom/pdf/2022.EDM-long-papers.23.pdf\n"
     ]
    },
    {
     "name": "stdout",
     "output_type": "stream",
     "text": [
      "CREATED proceedings/cdrom/bib/2022.EDM-long-papers.23.bib\n"
     ]
    },
    {
     "name": "stderr",
     "output_type": "stream",
     "text": [
      "COPYING long-papers/pdf/EDM_2022_paper_141.pdf -> proceedings/cdrom/pdf/2022.EDM-long-papers.24.pdf\n"
     ]
    },
    {
     "name": "stdout",
     "output_type": "stream",
     "text": [
      "CREATED proceedings/cdrom/bib/2022.EDM-long-papers.24.bib\n"
     ]
    },
    {
     "name": "stderr",
     "output_type": "stream",
     "text": [
      "COPYING long-papers/pdf/EDM_2022_paper_148.pdf -> proceedings/cdrom/pdf/2022.EDM-long-papers.25.pdf\n"
     ]
    },
    {
     "name": "stdout",
     "output_type": "stream",
     "text": [
      "CREATED proceedings/cdrom/bib/2022.EDM-long-papers.25.bib\n"
     ]
    },
    {
     "name": "stderr",
     "output_type": "stream",
     "text": [
      "COPYING long-papers/pdf/EDM_2022_paper_155.pdf -> proceedings/cdrom/pdf/2022.EDM-long-papers.26.pdf\n"
     ]
    },
    {
     "name": "stdout",
     "output_type": "stream",
     "text": [
      "CREATED proceedings/cdrom/bib/2022.EDM-long-papers.26.bib\n"
     ]
    },
    {
     "name": "stderr",
     "output_type": "stream",
     "text": [
      "COPYING long-papers/pdf/EDM_2022_paper_3.pdf -> proceedings/cdrom/pdf/2022.EDM-short-papers.27.pdf\n"
     ]
    },
    {
     "name": "stdout",
     "output_type": "stream",
     "text": [
      "CREATED proceedings/cdrom/bib/2022.EDM-short-papers.27.bib\n"
     ]
    },
    {
     "name": "stderr",
     "output_type": "stream",
     "text": [
      "COPYING short-papers/pdf/EDM_2022_paper_9.pdf -> proceedings/cdrom/pdf/2022.EDM-short-papers.28.pdf\n"
     ]
    },
    {
     "name": "stdout",
     "output_type": "stream",
     "text": [
      "CREATED proceedings/cdrom/bib/2022.EDM-short-papers.28.bib\n"
     ]
    },
    {
     "name": "stderr",
     "output_type": "stream",
     "text": [
      "COPYING short-papers/pdf/EDM_2022_paper_14.pdf -> proceedings/cdrom/pdf/2022.EDM-short-papers.29.pdf\n"
     ]
    },
    {
     "name": "stdout",
     "output_type": "stream",
     "text": [
      "CREATED proceedings/cdrom/bib/2022.EDM-short-papers.29.bib\n"
     ]
    },
    {
     "name": "stderr",
     "output_type": "stream",
     "text": [
      "COPYING long-papers/pdf/EDM_2022_paper_16.pdf -> proceedings/cdrom/pdf/2022.EDM-short-papers.30.pdf\n"
     ]
    },
    {
     "name": "stdout",
     "output_type": "stream",
     "text": [
      "CREATED proceedings/cdrom/bib/2022.EDM-short-papers.30.bib\n"
     ]
    },
    {
     "name": "stderr",
     "output_type": "stream",
     "text": [
      "COPYING long-papers/pdf/EDM_2022_paper_20.pdf -> proceedings/cdrom/pdf/2022.EDM-short-papers.31.pdf\n"
     ]
    },
    {
     "name": "stdout",
     "output_type": "stream",
     "text": [
      "CREATED proceedings/cdrom/bib/2022.EDM-short-papers.31.bib\n"
     ]
    },
    {
     "name": "stderr",
     "output_type": "stream",
     "text": [
      "COPYING short-papers/pdf/EDM_2022_paper_31.pdf -> proceedings/cdrom/pdf/2022.EDM-short-papers.32.pdf\n"
     ]
    },
    {
     "name": "stdout",
     "output_type": "stream",
     "text": [
      "CREATED proceedings/cdrom/bib/2022.EDM-short-papers.32.bib\n"
     ]
    },
    {
     "name": "stderr",
     "output_type": "stream",
     "text": [
      "COPYING short-papers/pdf/EDM_2022_paper_40.pdf -> proceedings/cdrom/pdf/2022.EDM-short-papers.33.pdf\n"
     ]
    },
    {
     "name": "stdout",
     "output_type": "stream",
     "text": [
      "CREATED proceedings/cdrom/bib/2022.EDM-short-papers.33.bib\n"
     ]
    },
    {
     "name": "stderr",
     "output_type": "stream",
     "text": [
      "COPYING short-papers/pdf/EDM_2022_paper_42.pdf -> proceedings/cdrom/pdf/2022.EDM-short-papers.34.pdf\n"
     ]
    },
    {
     "name": "stdout",
     "output_type": "stream",
     "text": [
      "CREATED proceedings/cdrom/bib/2022.EDM-short-papers.34.bib\n"
     ]
    },
    {
     "name": "stderr",
     "output_type": "stream",
     "text": [
      "COPYING long-papers/pdf/EDM_2022_paper_43.pdf -> proceedings/cdrom/pdf/2022.EDM-short-papers.35.pdf\n"
     ]
    },
    {
     "name": "stdout",
     "output_type": "stream",
     "text": [
      "CREATED proceedings/cdrom/bib/2022.EDM-short-papers.35.bib\n"
     ]
    },
    {
     "name": "stderr",
     "output_type": "stream",
     "text": [
      "COPYING short-papers/pdf/EDM_2022_paper_45.pdf -> proceedings/cdrom/pdf/2022.EDM-short-papers.36.pdf\n"
     ]
    },
    {
     "name": "stdout",
     "output_type": "stream",
     "text": [
      "CREATED proceedings/cdrom/bib/2022.EDM-short-papers.36.bib\n"
     ]
    },
    {
     "name": "stderr",
     "output_type": "stream",
     "text": [
      "COPYING short-papers/pdf/EDM_2022_paper_52.pdf -> proceedings/cdrom/pdf/2022.EDM-short-papers.37.pdf\n"
     ]
    },
    {
     "name": "stdout",
     "output_type": "stream",
     "text": [
      "CREATED proceedings/cdrom/bib/2022.EDM-short-papers.37.bib\n"
     ]
    },
    {
     "name": "stderr",
     "output_type": "stream",
     "text": [
      "COPYING long-papers/pdf/EDM_2022_paper_59.pdf -> proceedings/cdrom/pdf/2022.EDM-short-papers.38.pdf\n"
     ]
    },
    {
     "name": "stdout",
     "output_type": "stream",
     "text": [
      "CREATED proceedings/cdrom/bib/2022.EDM-short-papers.38.bib\n"
     ]
    },
    {
     "name": "stderr",
     "output_type": "stream",
     "text": [
      "COPYING long-papers/pdf/EDM_2022_paper_69.pdf -> proceedings/cdrom/pdf/2022.EDM-short-papers.39.pdf\n"
     ]
    },
    {
     "name": "stdout",
     "output_type": "stream",
     "text": [
      "CREATED proceedings/cdrom/bib/2022.EDM-short-papers.39.bib\n"
     ]
    },
    {
     "name": "stderr",
     "output_type": "stream",
     "text": [
      "COPYING long-papers/pdf/EDM_2022_paper_72.pdf -> proceedings/cdrom/pdf/2022.EDM-short-papers.40.pdf\n"
     ]
    },
    {
     "name": "stdout",
     "output_type": "stream",
     "text": [
      "CREATED proceedings/cdrom/bib/2022.EDM-short-papers.40.bib\n"
     ]
    },
    {
     "name": "stderr",
     "output_type": "stream",
     "text": [
      "COPYING long-papers/pdf/EDM_2022_paper_74.pdf -> proceedings/cdrom/pdf/2022.EDM-short-papers.41.pdf\n"
     ]
    },
    {
     "name": "stdout",
     "output_type": "stream",
     "text": [
      "CREATED proceedings/cdrom/bib/2022.EDM-short-papers.41.bib\n"
     ]
    },
    {
     "name": "stderr",
     "output_type": "stream",
     "text": [
      "COPYING short-papers/pdf/EDM_2022_paper_82.pdf -> proceedings/cdrom/pdf/2022.EDM-short-papers.42.pdf\n"
     ]
    },
    {
     "name": "stdout",
     "output_type": "stream",
     "text": [
      "CREATED proceedings/cdrom/bib/2022.EDM-short-papers.42.bib\n"
     ]
    },
    {
     "name": "stderr",
     "output_type": "stream",
     "text": [
      "COPYING long-papers/pdf/EDM_2022_paper_93.pdf -> proceedings/cdrom/pdf/2022.EDM-short-papers.43.pdf\n"
     ]
    },
    {
     "name": "stdout",
     "output_type": "stream",
     "text": [
      "CREATED proceedings/cdrom/bib/2022.EDM-short-papers.43.bib\n"
     ]
    },
    {
     "name": "stderr",
     "output_type": "stream",
     "text": [
      "COPYING long-papers/pdf/EDM_2022_paper_97.pdf -> proceedings/cdrom/pdf/2022.EDM-short-papers.44.pdf\n"
     ]
    },
    {
     "name": "stdout",
     "output_type": "stream",
     "text": [
      "CREATED proceedings/cdrom/bib/2022.EDM-short-papers.44.bib\n"
     ]
    },
    {
     "name": "stderr",
     "output_type": "stream",
     "text": [
      "COPYING long-papers/pdf/EDM_2022_paper_105.pdf -> proceedings/cdrom/pdf/2022.EDM-short-papers.45.pdf\n"
     ]
    },
    {
     "name": "stdout",
     "output_type": "stream",
     "text": [
      "CREATED proceedings/cdrom/bib/2022.EDM-short-papers.45.bib\n"
     ]
    },
    {
     "name": "stderr",
     "output_type": "stream",
     "text": [
      "COPYING short-papers/pdf/EDM_2022_paper_107.pdf -> proceedings/cdrom/pdf/2022.EDM-short-papers.46.pdf\n"
     ]
    },
    {
     "name": "stdout",
     "output_type": "stream",
     "text": [
      "CREATED proceedings/cdrom/bib/2022.EDM-short-papers.46.bib\n"
     ]
    },
    {
     "name": "stderr",
     "output_type": "stream",
     "text": [
      "COPYING short-papers/pdf/EDM_2022_paper_118.pdf -> proceedings/cdrom/pdf/2022.EDM-short-papers.47.pdf\n"
     ]
    },
    {
     "name": "stdout",
     "output_type": "stream",
     "text": [
      "CREATED proceedings/cdrom/bib/2022.EDM-short-papers.47.bib\n"
     ]
    },
    {
     "name": "stderr",
     "output_type": "stream",
     "text": [
      "COPYING short-papers/pdf/EDM_2022_paper_120.pdf -> proceedings/cdrom/pdf/2022.EDM-short-papers.48.pdf\n"
     ]
    },
    {
     "name": "stdout",
     "output_type": "stream",
     "text": [
      "CREATED proceedings/cdrom/bib/2022.EDM-short-papers.48.bib\n"
     ]
    },
    {
     "name": "stderr",
     "output_type": "stream",
     "text": [
      "COPYING short-papers/pdf/EDM_2022_paper_126.pdf -> proceedings/cdrom/pdf/2022.EDM-short-papers.49.pdf\n"
     ]
    },
    {
     "name": "stdout",
     "output_type": "stream",
     "text": [
      "CREATED proceedings/cdrom/bib/2022.EDM-short-papers.49.bib\n"
     ]
    },
    {
     "name": "stderr",
     "output_type": "stream",
     "text": [
      "COPYING long-papers/pdf/EDM_2022_paper_130.pdf -> proceedings/cdrom/pdf/2022.EDM-short-papers.50.pdf\n"
     ]
    },
    {
     "name": "stdout",
     "output_type": "stream",
     "text": [
      "CREATED proceedings/cdrom/bib/2022.EDM-short-papers.50.bib\n"
     ]
    },
    {
     "name": "stderr",
     "output_type": "stream",
     "text": [
      "COPYING short-papers/pdf/EDM_2022_paper_145.pdf -> proceedings/cdrom/pdf/2022.EDM-short-papers.51.pdf\n"
     ]
    },
    {
     "name": "stdout",
     "output_type": "stream",
     "text": [
      "CREATED proceedings/cdrom/bib/2022.EDM-short-papers.51.bib\n"
     ]
    },
    {
     "name": "stderr",
     "output_type": "stream",
     "text": [
      "COPYING short-papers/pdf/EDM_2022_paper_151.pdf -> proceedings/cdrom/pdf/2022.EDM-short-papers.52.pdf\n"
     ]
    },
    {
     "name": "stdout",
     "output_type": "stream",
     "text": [
      "CREATED proceedings/cdrom/bib/2022.EDM-short-papers.52.bib\n"
     ]
    },
    {
     "name": "stderr",
     "output_type": "stream",
     "text": [
      "COPYING short-papers/pdf/EDM_2022_paper_153.pdf -> proceedings/cdrom/pdf/2022.EDM-short-papers.53.pdf\n"
     ]
    },
    {
     "name": "stdout",
     "output_type": "stream",
     "text": [
      "CREATED proceedings/cdrom/bib/2022.EDM-short-papers.53.bib\n"
     ]
    },
    {
     "name": "stderr",
     "output_type": "stream",
     "text": [
      "COPYING short-papers/pdf/EDM_2022_paper_168.pdf -> proceedings/cdrom/pdf/2022.EDM-short-papers.54.pdf\n"
     ]
    },
    {
     "name": "stdout",
     "output_type": "stream",
     "text": [
      "CREATED proceedings/cdrom/bib/2022.EDM-short-papers.54.bib\n"
     ]
    },
    {
     "name": "stderr",
     "output_type": "stream",
     "text": [
      "COPYING short-papers/pdf/EDM_2022_paper_195.pdf -> proceedings/cdrom/pdf/2022.EDM-short-papers.55.pdf\n"
     ]
    },
    {
     "name": "stdout",
     "output_type": "stream",
     "text": [
      "CREATED proceedings/cdrom/bib/2022.EDM-short-papers.55.bib\n"
     ]
    },
    {
     "name": "stderr",
     "output_type": "stream",
     "text": [
      "COPYING long-papers/pdf/EDM_2022_paper_6.pdf -> proceedings/cdrom/pdf/2022.EDM-posters.56.pdf\n"
     ]
    },
    {
     "name": "stdout",
     "output_type": "stream",
     "text": [
      "CREATED proceedings/cdrom/bib/2022.EDM-posters.56.bib\n"
     ]
    },
    {
     "name": "stderr",
     "output_type": "stream",
     "text": [
      "COPYING long-papers/pdf/EDM_2022_paper_15.pdf -> proceedings/cdrom/pdf/2022.EDM-posters.57.pdf\n"
     ]
    },
    {
     "name": "stdout",
     "output_type": "stream",
     "text": [
      "CREATED proceedings/cdrom/bib/2022.EDM-posters.57.bib\n"
     ]
    },
    {
     "name": "stderr",
     "output_type": "stream",
     "text": [
      "COPYING short-papers/pdf/EDM_2022_paper_17.pdf -> proceedings/cdrom/pdf/2022.EDM-posters.58.pdf\n"
     ]
    },
    {
     "name": "stdout",
     "output_type": "stream",
     "text": [
      "CREATED proceedings/cdrom/bib/2022.EDM-posters.58.bib\n"
     ]
    },
    {
     "name": "stderr",
     "output_type": "stream",
     "text": [
      "COPYING short-papers/pdf/EDM_2022_paper_23.pdf -> proceedings/cdrom/pdf/2022.EDM-posters.59.pdf\n"
     ]
    },
    {
     "name": "stdout",
     "output_type": "stream",
     "text": [
      "CREATED proceedings/cdrom/bib/2022.EDM-posters.59.bib\n"
     ]
    },
    {
     "name": "stderr",
     "output_type": "stream",
     "text": [
      "COPYING long-papers/pdf/EDM_2022_paper_26.pdf -> proceedings/cdrom/pdf/2022.EDM-posters.60.pdf\n"
     ]
    },
    {
     "name": "stdout",
     "output_type": "stream",
     "text": [
      "CREATED proceedings/cdrom/bib/2022.EDM-posters.60.bib\n"
     ]
    },
    {
     "name": "stderr",
     "output_type": "stream",
     "text": [
      "COPYING short-papers/pdf/EDM_2022_paper_33.pdf -> proceedings/cdrom/pdf/2022.EDM-posters.61.pdf\n"
     ]
    },
    {
     "name": "stdout",
     "output_type": "stream",
     "text": [
      "CREATED proceedings/cdrom/bib/2022.EDM-posters.61.bib\n"
     ]
    },
    {
     "name": "stderr",
     "output_type": "stream",
     "text": [
      "COPYING short-papers/pdf/EDM_2022_paper_39.pdf -> proceedings/cdrom/pdf/2022.EDM-posters.62.pdf\n"
     ]
    },
    {
     "name": "stdout",
     "output_type": "stream",
     "text": [
      "CREATED proceedings/cdrom/bib/2022.EDM-posters.62.bib\n"
     ]
    },
    {
     "name": "stderr",
     "output_type": "stream",
     "text": [
      "COPYING short-papers/pdf/EDM_2022_paper_48.pdf -> proceedings/cdrom/pdf/2022.EDM-posters.63.pdf\n"
     ]
    },
    {
     "name": "stdout",
     "output_type": "stream",
     "text": [
      "CREATED proceedings/cdrom/bib/2022.EDM-posters.63.bib\n"
     ]
    },
    {
     "name": "stderr",
     "output_type": "stream",
     "text": [
      "COPYING short-papers/pdf/EDM_2022_paper_57.pdf -> proceedings/cdrom/pdf/2022.EDM-posters.64.pdf\n"
     ]
    },
    {
     "name": "stdout",
     "output_type": "stream",
     "text": [
      "CREATED proceedings/cdrom/bib/2022.EDM-posters.64.bib\n"
     ]
    },
    {
     "name": "stderr",
     "output_type": "stream",
     "text": [
      "COPYING long-papers/pdf/EDM_2022_paper_61.pdf -> proceedings/cdrom/pdf/2022.EDM-posters.65.pdf\n"
     ]
    },
    {
     "name": "stdout",
     "output_type": "stream",
     "text": [
      "CREATED proceedings/cdrom/bib/2022.EDM-posters.65.bib\n"
     ]
    },
    {
     "name": "stderr",
     "output_type": "stream",
     "text": [
      "COPYING short-papers/pdf/EDM_2022_paper_67.pdf -> proceedings/cdrom/pdf/2022.EDM-posters.66.pdf\n"
     ]
    },
    {
     "name": "stdout",
     "output_type": "stream",
     "text": [
      "CREATED proceedings/cdrom/bib/2022.EDM-posters.66.bib\n"
     ]
    },
    {
     "name": "stderr",
     "output_type": "stream",
     "text": [
      "COPYING long-papers/pdf/EDM_2022_paper_71.pdf -> proceedings/cdrom/pdf/2022.EDM-posters.67.pdf\n"
     ]
    },
    {
     "name": "stdout",
     "output_type": "stream",
     "text": [
      "CREATED proceedings/cdrom/bib/2022.EDM-posters.67.bib\n"
     ]
    },
    {
     "name": "stderr",
     "output_type": "stream",
     "text": [
      "COPYING short-papers/pdf/EDM_2022_paper_86.pdf -> proceedings/cdrom/pdf/2022.EDM-posters.68.pdf\n"
     ]
    },
    {
     "name": "stdout",
     "output_type": "stream",
     "text": [
      "CREATED proceedings/cdrom/bib/2022.EDM-posters.68.bib\n"
     ]
    },
    {
     "name": "stderr",
     "output_type": "stream",
     "text": [
      "COPYING short-papers/pdf/EDM_2022_paper_87.pdf -> proceedings/cdrom/pdf/2022.EDM-posters.69.pdf\n"
     ]
    },
    {
     "name": "stdout",
     "output_type": "stream",
     "text": [
      "CREATED proceedings/cdrom/bib/2022.EDM-posters.69.bib\n"
     ]
    },
    {
     "name": "stderr",
     "output_type": "stream",
     "text": [
      "COPYING long-papers/pdf/EDM_2022_paper_88.pdf -> proceedings/cdrom/pdf/2022.EDM-posters.70.pdf\n"
     ]
    },
    {
     "name": "stdout",
     "output_type": "stream",
     "text": [
      "CREATED proceedings/cdrom/bib/2022.EDM-posters.70.bib\n"
     ]
    },
    {
     "name": "stderr",
     "output_type": "stream",
     "text": [
      "COPYING short-papers/pdf/EDM_2022_paper_90.pdf -> proceedings/cdrom/pdf/2022.EDM-posters.71.pdf\n"
     ]
    },
    {
     "name": "stdout",
     "output_type": "stream",
     "text": [
      "CREATED proceedings/cdrom/bib/2022.EDM-posters.71.bib\n"
     ]
    },
    {
     "name": "stderr",
     "output_type": "stream",
     "text": [
      "COPYING long-papers/pdf/EDM_2022_paper_91.pdf -> proceedings/cdrom/pdf/2022.EDM-posters.72.pdf\n"
     ]
    },
    {
     "name": "stdout",
     "output_type": "stream",
     "text": [
      "CREATED proceedings/cdrom/bib/2022.EDM-posters.72.bib\n"
     ]
    },
    {
     "name": "stderr",
     "output_type": "stream",
     "text": [
      "COPYING short-papers/pdf/EDM_2022_paper_101.pdf -> proceedings/cdrom/pdf/2022.EDM-posters.73.pdf\n"
     ]
    },
    {
     "name": "stdout",
     "output_type": "stream",
     "text": [
      "CREATED proceedings/cdrom/bib/2022.EDM-posters.73.bib\n"
     ]
    },
    {
     "name": "stderr",
     "output_type": "stream",
     "text": [
      "COPYING short-papers/pdf/EDM_2022_paper_102.pdf -> proceedings/cdrom/pdf/2022.EDM-posters.74.pdf\n"
     ]
    },
    {
     "name": "stdout",
     "output_type": "stream",
     "text": [
      "CREATED proceedings/cdrom/bib/2022.EDM-posters.74.bib\n"
     ]
    },
    {
     "name": "stderr",
     "output_type": "stream",
     "text": [
      "COPYING short-papers/pdf/EDM_2022_paper_103.pdf -> proceedings/cdrom/pdf/2022.EDM-posters.75.pdf\n"
     ]
    },
    {
     "name": "stdout",
     "output_type": "stream",
     "text": [
      "CREATED proceedings/cdrom/bib/2022.EDM-posters.75.bib\n"
     ]
    },
    {
     "name": "stderr",
     "output_type": "stream",
     "text": [
      "COPYING short-papers/pdf/EDM_2022_paper_110.pdf -> proceedings/cdrom/pdf/2022.EDM-posters.76.pdf\n"
     ]
    },
    {
     "name": "stdout",
     "output_type": "stream",
     "text": [
      "CREATED proceedings/cdrom/bib/2022.EDM-posters.76.bib\n"
     ]
    },
    {
     "name": "stderr",
     "output_type": "stream",
     "text": [
      "COPYING long-papers/pdf/EDM_2022_paper_115.pdf -> proceedings/cdrom/pdf/2022.EDM-posters.77.pdf\n"
     ]
    },
    {
     "name": "stdout",
     "output_type": "stream",
     "text": [
      "CREATED proceedings/cdrom/bib/2022.EDM-posters.77.bib\n"
     ]
    },
    {
     "name": "stderr",
     "output_type": "stream",
     "text": [
      "COPYING short-papers/pdf/EDM_2022_paper_119.pdf -> proceedings/cdrom/pdf/2022.EDM-posters.78.pdf\n"
     ]
    },
    {
     "name": "stdout",
     "output_type": "stream",
     "text": [
      "CREATED proceedings/cdrom/bib/2022.EDM-posters.78.bib\n"
     ]
    },
    {
     "name": "stderr",
     "output_type": "stream",
     "text": [
      "COPYING short-papers/pdf/EDM_2022_paper_124.pdf -> proceedings/cdrom/pdf/2022.EDM-posters.79.pdf\n"
     ]
    },
    {
     "name": "stdout",
     "output_type": "stream",
     "text": [
      "CREATED proceedings/cdrom/bib/2022.EDM-posters.79.bib\n"
     ]
    },
    {
     "name": "stderr",
     "output_type": "stream",
     "text": [
      "COPYING long-papers/pdf/EDM_2022_paper_132.pdf -> proceedings/cdrom/pdf/2022.EDM-posters.80.pdf\n"
     ]
    },
    {
     "name": "stdout",
     "output_type": "stream",
     "text": [
      "CREATED proceedings/cdrom/bib/2022.EDM-posters.80.bib\n"
     ]
    },
    {
     "name": "stderr",
     "output_type": "stream",
     "text": [
      "COPYING long-papers/pdf/EDM_2022_paper_136.pdf -> proceedings/cdrom/pdf/2022.EDM-posters.81.pdf\n"
     ]
    },
    {
     "name": "stdout",
     "output_type": "stream",
     "text": [
      "CREATED proceedings/cdrom/bib/2022.EDM-posters.81.bib\n"
     ]
    },
    {
     "name": "stderr",
     "output_type": "stream",
     "text": [
      "COPYING short-papers/pdf/EDM_2022_paper_138.pdf -> proceedings/cdrom/pdf/2022.EDM-posters.82.pdf\n"
     ]
    },
    {
     "name": "stdout",
     "output_type": "stream",
     "text": [
      "CREATED proceedings/cdrom/bib/2022.EDM-posters.82.bib\n"
     ]
    },
    {
     "name": "stderr",
     "output_type": "stream",
     "text": [
      "COPYING long-papers/pdf/EDM_2022_paper_157.pdf -> proceedings/cdrom/pdf/2022.EDM-posters.83.pdf\n"
     ]
    },
    {
     "name": "stdout",
     "output_type": "stream",
     "text": [
      "CREATED proceedings/cdrom/bib/2022.EDM-posters.83.bib\n"
     ]
    },
    {
     "name": "stderr",
     "output_type": "stream",
     "text": [
      "COPYING short-papers/pdf/EDM_2022_paper_162.pdf -> proceedings/cdrom/pdf/2022.EDM-posters.84.pdf\n"
     ]
    },
    {
     "name": "stdout",
     "output_type": "stream",
     "text": [
      "CREATED proceedings/cdrom/bib/2022.EDM-posters.84.bib\n"
     ]
    },
    {
     "name": "stderr",
     "output_type": "stream",
     "text": [
      "COPYING short-papers/pdf/EDM_2022_paper_167.pdf -> proceedings/cdrom/pdf/2022.EDM-posters.85.pdf\n"
     ]
    },
    {
     "name": "stdout",
     "output_type": "stream",
     "text": [
      "CREATED proceedings/cdrom/bib/2022.EDM-posters.85.bib\n"
     ]
    },
    {
     "name": "stderr",
     "output_type": "stream",
     "text": [
      "COPYING long-papers/pdf/EDM_2022_paper_175.pdf -> proceedings/cdrom/pdf/2022.EDM-posters.86.pdf\n"
     ]
    },
    {
     "name": "stdout",
     "output_type": "stream",
     "text": [
      "CREATED proceedings/cdrom/bib/2022.EDM-posters.86.bib\n"
     ]
    },
    {
     "name": "stderr",
     "output_type": "stream",
     "text": [
      "COPYING long-papers/pdf/EDM_2022_paper_186.pdf -> proceedings/cdrom/pdf/2022.EDM-posters.87.pdf\n"
     ]
    },
    {
     "name": "stdout",
     "output_type": "stream",
     "text": [
      "CREATED proceedings/cdrom/bib/2022.EDM-posters.87.bib\n"
     ]
    },
    {
     "name": "stderr",
     "output_type": "stream",
     "text": [
      "COPYING long-papers/pdf/EDM_2022_paper_187.pdf -> proceedings/cdrom/pdf/2022.EDM-posters.88.pdf\n"
     ]
    },
    {
     "name": "stdout",
     "output_type": "stream",
     "text": [
      "CREATED proceedings/cdrom/bib/2022.EDM-posters.88.bib\n"
     ]
    },
    {
     "name": "stderr",
     "output_type": "stream",
     "text": [
      "COPYING short-papers/pdf/EDM_2022_paper_196.pdf -> proceedings/cdrom/pdf/2022.EDM-posters.89.pdf\n"
     ]
    },
    {
     "name": "stdout",
     "output_type": "stream",
     "text": [
      "CREATED proceedings/cdrom/bib/2022.EDM-posters.89.bib\n"
     ]
    },
    {
     "name": "stderr",
     "output_type": "stream",
     "text": [
      "COPYING posters/pdf/EDM_2022_paper_200.pdf -> proceedings/cdrom/pdf/2022.EDM-posters.90.pdf\n"
     ]
    },
    {
     "name": "stdout",
     "output_type": "stream",
     "text": [
      "CREATED proceedings/cdrom/bib/2022.EDM-posters.90.bib\n"
     ]
    },
    {
     "name": "stderr",
     "output_type": "stream",
     "text": [
      "COPYING posters/pdf/EDM_2022_paper_202.pdf -> proceedings/cdrom/pdf/2022.EDM-posters.91.pdf\n"
     ]
    },
    {
     "name": "stdout",
     "output_type": "stream",
     "text": [
      "CREATED proceedings/cdrom/bib/2022.EDM-posters.91.bib\n"
     ]
    },
    {
     "name": "stderr",
     "output_type": "stream",
     "text": [
      "COPYING posters/pdf/EDM_2022_paper_205.pdf -> proceedings/cdrom/pdf/2022.EDM-posters.92.pdf\n"
     ]
    },
    {
     "name": "stdout",
     "output_type": "stream",
     "text": [
      "CREATED proceedings/cdrom/bib/2022.EDM-posters.92.bib\n"
     ]
    },
    {
     "name": "stderr",
     "output_type": "stream",
     "text": [
      "COPYING posters/pdf/EDM_2022_paper_211.pdf -> proceedings/cdrom/pdf/2022.EDM-posters.93.pdf\n"
     ]
    },
    {
     "name": "stdout",
     "output_type": "stream",
     "text": [
      "CREATED proceedings/cdrom/bib/2022.EDM-posters.93.bib\n"
     ]
    },
    {
     "name": "stderr",
     "output_type": "stream",
     "text": [
      "COPYING posters/pdf/EDM_2022_paper_214.pdf -> proceedings/cdrom/pdf/2022.EDM-posters.94.pdf\n"
     ]
    },
    {
     "name": "stdout",
     "output_type": "stream",
     "text": [
      "CREATED proceedings/cdrom/bib/2022.EDM-posters.94.bib\n"
     ]
    },
    {
     "name": "stderr",
     "output_type": "stream",
     "text": [
      "COPYING posters/pdf/EDM_2022_paper_215.pdf -> proceedings/cdrom/pdf/2022.EDM-posters.95.pdf\n"
     ]
    },
    {
     "name": "stdout",
     "output_type": "stream",
     "text": [
      "CREATED proceedings/cdrom/bib/2022.EDM-posters.95.bib\n"
     ]
    },
    {
     "name": "stderr",
     "output_type": "stream",
     "text": [
      "COPYING posters/pdf/EDM_2022_paper_220.pdf -> proceedings/cdrom/pdf/2022.EDM-posters.96.pdf\n"
     ]
    },
    {
     "name": "stdout",
     "output_type": "stream",
     "text": [
      "CREATED proceedings/cdrom/bib/2022.EDM-posters.96.bib\n"
     ]
    },
    {
     "name": "stderr",
     "output_type": "stream",
     "text": [
      "COPYING posters/pdf/EDM_2022_paper_221.pdf -> proceedings/cdrom/pdf/2022.EDM-posters.97.pdf\n"
     ]
    },
    {
     "name": "stdout",
     "output_type": "stream",
     "text": [
      "CREATED proceedings/cdrom/bib/2022.EDM-posters.97.bib\n"
     ]
    },
    {
     "name": "stderr",
     "output_type": "stream",
     "text": [
      "COPYING posters/pdf/EDM_2022_paper_222.pdf -> proceedings/cdrom/pdf/2022.EDM-posters.98.pdf\n"
     ]
    },
    {
     "name": "stdout",
     "output_type": "stream",
     "text": [
      "CREATED proceedings/cdrom/bib/2022.EDM-posters.98.bib\n"
     ]
    },
    {
     "name": "stderr",
     "output_type": "stream",
     "text": [
      "COPYING posters/pdf/EDM_2022_paper_223.pdf -> proceedings/cdrom/pdf/2022.EDM-posters.99.pdf\n"
     ]
    },
    {
     "name": "stdout",
     "output_type": "stream",
     "text": [
      "CREATED proceedings/cdrom/bib/2022.EDM-posters.99.bib\n"
     ]
    },
    {
     "name": "stderr",
     "output_type": "stream",
     "text": [
      "COPYING doctoral-consortium/pdf/EDM_2022_paper_34.pdf -> proceedings/cdrom/pdf/2022.EDM-doctoral-consortium.100.pdf\n"
     ]
    },
    {
     "name": "stdout",
     "output_type": "stream",
     "text": [
      "CREATED proceedings/cdrom/bib/2022.EDM-doctoral-consortium.100.bib\n"
     ]
    },
    {
     "name": "stderr",
     "output_type": "stream",
     "text": [
      "COPYING doctoral-consortium/pdf/EDM_2022_paper_201.pdf -> proceedings/cdrom/pdf/2022.EDM-doctoral-consortium.101.pdf\n"
     ]
    },
    {
     "name": "stdout",
     "output_type": "stream",
     "text": [
      "CREATED proceedings/cdrom/bib/2022.EDM-doctoral-consortium.101.bib\n"
     ]
    },
    {
     "name": "stderr",
     "output_type": "stream",
     "text": [
      "COPYING doctoral-consortium/pdf/EDM_2022_paper_209.pdf -> proceedings/cdrom/pdf/2022.EDM-doctoral-consortium.102.pdf\n"
     ]
    },
    {
     "name": "stdout",
     "output_type": "stream",
     "text": [
      "CREATED proceedings/cdrom/bib/2022.EDM-doctoral-consortium.102.bib\n"
     ]
    },
    {
     "name": "stderr",
     "output_type": "stream",
     "text": [
      "COPYING doctoral-consortium/pdf/EDM_2022_paper_212.pdf -> proceedings/cdrom/pdf/2022.EDM-doctoral-consortium.103.pdf\n"
     ]
    },
    {
     "name": "stdout",
     "output_type": "stream",
     "text": [
      "CREATED proceedings/cdrom/bib/2022.EDM-doctoral-consortium.103.bib\n"
     ]
    },
    {
     "name": "stderr",
     "output_type": "stream",
     "text": [
      "COPYING doctoral-consortium/pdf/EDM_2022_paper_213.pdf -> proceedings/cdrom/pdf/2022.EDM-doctoral-consortium.104.pdf\n"
     ]
    },
    {
     "name": "stdout",
     "output_type": "stream",
     "text": [
      "CREATED proceedings/cdrom/bib/2022.EDM-doctoral-consortium.104.bib\n"
     ]
    },
    {
     "name": "stderr",
     "output_type": "stream",
     "text": [
      "COPYING doctoral-consortium/pdf/EDM_2022_paper_216.pdf -> proceedings/cdrom/pdf/2022.EDM-doctoral-consortium.105.pdf\n"
     ]
    },
    {
     "name": "stdout",
     "output_type": "stream",
     "text": [
      "CREATED proceedings/cdrom/bib/2022.EDM-doctoral-consortium.105.bib\n"
     ]
    },
    {
     "name": "stderr",
     "output_type": "stream",
     "text": [
      "COPYING doctoral-consortium/pdf/EDM_2022_paper_219.pdf -> proceedings/cdrom/pdf/2022.EDM-doctoral-consortium.106.pdf\n"
     ]
    },
    {
     "name": "stdout",
     "output_type": "stream",
     "text": [
      "CREATED proceedings/cdrom/bib/2022.EDM-doctoral-consortium.106.bib\n"
     ]
    },
    {
     "name": "stderr",
     "output_type": "stream",
     "text": [
      "COPYING doctoral-consortium/pdf/EDM_2022_paper_225.pdf -> proceedings/cdrom/pdf/2022.EDM-doctoral-consortium.107.pdf\n"
     ]
    },
    {
     "name": "stdout",
     "output_type": "stream",
     "text": [
      "CREATED proceedings/cdrom/bib/2022.EDM-doctoral-consortium.107.bib\n"
     ]
    },
    {
     "name": "stderr",
     "output_type": "stream",
     "text": [
      "COPYING doctoral-consortium/pdf/EDM_2022_paper_228.pdf -> proceedings/cdrom/pdf/2022.EDM-doctoral-consortium.108.pdf\n"
     ]
    },
    {
     "name": "stdout",
     "output_type": "stream",
     "text": [
      "CREATED proceedings/cdrom/bib/2022.EDM-doctoral-consortium.108.bib\n"
     ]
    },
    {
     "name": "stderr",
     "output_type": "stream",
     "text": [
      "COPYING industry-track/pdf/EDM_2022_paper_5.pdf -> proceedings/cdrom/pdf/2022.EDM-industry-track.109.pdf\n"
     ]
    },
    {
     "name": "stdout",
     "output_type": "stream",
     "text": [
      "CREATED proceedings/cdrom/bib/2022.EDM-industry-track.109.bib\n"
     ]
    },
    {
     "name": "stderr",
     "output_type": "stream",
     "text": [
      "COPYING industry-track/pdf/EDM_2022_paper_24.pdf -> proceedings/cdrom/pdf/2022.EDM-industry-track.110.pdf\n"
     ]
    },
    {
     "name": "stdout",
     "output_type": "stream",
     "text": [
      "CREATED proceedings/cdrom/bib/2022.EDM-industry-track.110.bib\n"
     ]
    },
    {
     "name": "stderr",
     "output_type": "stream",
     "text": [
      "COPYING industry-track/pdf/EDM_2022_paper_60.pdf -> proceedings/cdrom/pdf/2022.EDM-industry-track.111.pdf\n"
     ]
    },
    {
     "name": "stdout",
     "output_type": "stream",
     "text": [
      "CREATED proceedings/cdrom/bib/2022.EDM-industry-track.111.bib\n"
     ]
    },
    {
     "name": "stderr",
     "output_type": "stream",
     "text": [
      "COPYING industry-track/pdf/EDM_2022_paper_92.pdf -> proceedings/cdrom/pdf/2022.EDM-industry-track.112.pdf\n"
     ]
    },
    {
     "name": "stdout",
     "output_type": "stream",
     "text": [
      "CREATED proceedings/cdrom/bib/2022.EDM-industry-track.112.bib\n"
     ]
    }
   ],
   "source": [
    "metadata =collect_track_metadata()\n",
    "\n",
    "submissions, accepted, abstracts, pdfs  = collect_submissions_and_acceptances( decisions, metadata )\n",
    "\n",
    "render_bibtex_and_track_assigned_pdf(metadata, submissions, accepted, abstracts, pdfs)"
   ]
  },
  {
   "cell_type": "code",
   "execution_count": 37,
   "id": "d1255c49",
   "metadata": {},
   "outputs": [
    {
     "data": {
      "text/plain": [
       "[('0', 'Proceedings of the 15th International Conference on Educational Data Mining', ['Tanja Mitrovic', 'Nigel Bosch'], 'front'), ('7', \"Insta-Reviewer: A Data-Driven Approach for Generating Instant Feedback on Students' Project Reports\", ['Qinjin Jia', 'Mitchell Young', 'Yunkai Xiao', 'Jialin Cui', 'Chengyuan Liu', 'Parvez Rashid', 'Edward Gehringer'], 'long-papers'), ('10', 'Sparse Factor Autoencoders for Item Response Theory', ['Benjamin Paaßen', 'Malwina Dywel', 'Melanie Fleckenstein', 'Niels Pinkwart'], 'long-papers'), ('12', 'Exploring Common Trends in Online Educational Experiments', ['Ethan Prihar', 'Manaal Syed', 'Korinn Ostrow', 'Stacy Shaw', 'Adam Sales', 'Neil Heffernan'], 'long-papers'), ('18', 'Designing Representations for Question Sequencing using Reinforcement Learning', ['Aqil Zainal Azhar', 'Avi Segal', 'Kobi Gal'], 'long-papers'), ('21', 'Code-DKT: A Code-based Knowledge Tracing Model for Programming Tasks', ['Yang Shi', 'Min Chi', 'Tiffany Barnes', 'Thomas Price'], 'long-papers'), ('22', 'Building a Reinforcement Learning Environment from Limited Data to Optimize Teachable Robot Interventions', ['Tristan Maidment', 'Mingzhi Yu', 'Nikki Lobczowski', 'Adriana Kovashka', 'Erin Walker', 'Diane Litman', 'Timothy Nokes-Malach'], 'long-papers'), ('35', 'Detecting SMART Model Cognitive Operations in Mathematical Problem-Solving Process', ['Jiayi Zhang', 'Juliana Ma. Alexandra L. Andres', 'Stephen Hutt', 'Ryan S. Baker', 'Jaclyn Ocumpaugh', 'Caitlin Mills', 'Jamiella Brooks', 'Sheela Sethuraman', 'Tyron Young'], 'long-papers'), ('37', 'SQL-DP:A Novel Difficulty Prediction Framework for SQL Programming Problems', ['Jia Xu', 'Tingting Wei', 'Pin Lv'], 'long-papers'), ('51', 'Evaluating the Explainers: Black-Box Explainable Machine Learning for Student Success Prediction in MOOCs', ['Vinitra Swamy', 'Bahar Radmehr', 'Natasa Krco', 'Mirko Marras', 'Tanja Käser'], 'long-papers'), ('53', 'Addressing Competing Objectives in Allocating Funds to Scholarships and Need-based Financial Aid', ['Vinthuy Phan', 'Laura Wright', 'Bridgette Decent'], 'long-papers'), ('54', 'Automatic Short Math Answer Grading via In-context Meta-learning', ['Mengxue Zhang', 'Sami Baral', 'Neil Heffernan', 'Andrew Lan'], 'long-papers'), ('55', 'Investigating Multimodal Predictors of Peer Satisfaction for Collaborative Coding in Middle School', ['Yingbo Ma', 'Gloria Ashiya Katuka', 'Mehmet Celepkolu', 'Kristy Elizabeth Boyer'], 'long-papers'), ('56', 'Going Deep and Far: Gaze-based Models Predict Multiple Depths of Comprehension During and One Week Following Reading', ['Megan Caruso', 'Candace Peacock', 'Rosy Southwell', 'Guojing Zhou', \"Sidney D'Mello\"], 'long-papers'), ('62', 'Predicting Reading Comprehension Scores of Elementary School Students', ['Yuyang Nie', 'Helene Deacon', 'Alona Fyshe', 'Carrie Demmans Epp'], 'long-papers'), ('63', 'Enhancing Stealth Assessment in Game-Based Learning Environments with Generative Zero-Shot Learning', ['Nathan Henderson', 'Halim Acosta', 'Wookhee Min', 'Bradford Mott', 'Trudi Lord', 'Frieda Reichsman', 'Chad Dorsey', 'Eric Wiebe', 'James Lester'], 'long-papers'), ('78', 'Generalisable Methods for Early Prediction in Interactive Simulations for Education', ['Jade Maï Cock', 'Mirko Marras', 'Christian Giang', 'Tanja Käser'], 'long-papers'), ('80', 'Toward Better Grade Prediction via A2GP - An Academic Achievement Inspired Predictive Model', ['Wei Qiu', 'S. Supraja', 'Andy W. H. Khong'], 'long-papers'), ('84', 'Individual Fairness Evaluation for Automated Essay Scoring System', ['Afrizal Doewes', 'Akrati Saxena', 'Yulong Pei', 'Mykola Pechenizkiy'], 'long-papers'), ('94', 'Combining domain modelling and student modelling techniques in a single automated pipeline', ['Gio Picones', 'Benjamin Paaßen', 'Irena Koprinska', 'Kalina Yacef'], 'long-papers'), ('108', 'Neural Recall Network: A Neural Network Solution to Low Recall Problem in Regex-based Qualitative Coding', ['Zhiqiang Cai', 'Cody Marquart', 'David Shaffer'], 'long-papers'), ('109', 'Towards Including Instructor Features in Student Grade Prediction', ['Nathan Ong', 'Jiaye Zhu', 'Daniel Mosse'], 'long-papers'), ('125', 'Item Response Theory-Based Gaming Detection', ['Yun Huang', 'Steven Dang', 'J. Elizabeth Richey', 'Michael Asher', 'Nikki G. Lobczowski', 'Danielle Chine', 'Elizabeth A. McLaughlin', 'Judith M. Harackiewicz', 'Vincent Aleven', 'Kenneth Koedinger'], 'long-papers'), ('133', 'Exploring Cultural Diversity and Collaborative Team Communication through a Dynamical Systems Lens', ['Mohammad Amin Samadi', 'Jacqueline G. Cavazos', 'Yiwen Lin', 'Nia Nixon'], 'long-papers'), ('141', 'Predicting Cognitive Engagement in Online Course Discussion Forums', ['Guher Gorgun', 'Seyma Nur Yildirim-Erbasli', 'Carrie Demmans Epp'], 'long-papers'), ('148', 'Investigating Temporal Dynamics Underlying Successful Collaborative Problem Solving Behaviors with Multilevel Vector Autoregression', ['Guojing Zhou', 'Robert Moulder', 'Chen Sun', \"Sidney D'Mello\"], 'long-papers'), ('155', 'Challenges and Feasibility of Automatic Speech Recognition for Modeling Student Collaborative Discourse in Classrooms', ['Rosy Southwell', 'Samuel Pugh', 'E. Margaret Perkoff', 'Charis Clevenger', 'Jeffrey Bush', 'Rachel Lieber', 'Wayne Ward', 'Peter Foltz', \"Sidney D'Mello\"], 'long-papers'), ('3', 'Does Practice Make Perfect? Analyzing the Relationship Between Higher Mastery and Forgetting in an Adaptive Learning System', ['Jeffrey Matayoshi', 'Eric Cosyn', 'Hasan Uzun'], 'short-papers'), ('9', 'Improving Peer Assessment with Graph Neural Networks', ['Alireza A. Namanloo', 'Julie Thorpe', 'Amirali Salehi-Abari'], 'short-papers'), ('14', 'Using Neural Network-Based Knowledge Tracing for a Learning System with Unreliable Skill Tags', ['Shamya Karumbaiah', 'Jiayi Zhang', 'Ryan Baker', 'Richard Scruggs', 'Whitney Cade', 'Margaret Clements', 'Shuqiong Lin'], 'short-papers'), ('16', '#lets-discuss: Analyzing Student Affect in Course Forums Using Emoji', ['Ariel Blobstein', 'Kobi Gal', 'David Karger', 'Marc Facciotti', 'Hyunsoo Kim', 'Jumana Almahmoud', 'Kamali Sripathi'], 'short-papers'), ('20', 'Investigating Growth of Representational Competencies by Knowledge-Component Model', ['Jihyun Rho', 'Martina Rau', 'Barry Vanveen'], 'short-papers'), ('31', 'Adversarial bandits for drawing generalizable conclusions in non-adversarial experiments: an empirical study', ['Yang Zhi-Han', 'Shiyue Zhang', 'Anna Rafferty'], 'short-papers'), ('40', 'Towards Real Interpretability of Student Success Prediction Combining Methods of XAI and Social Science', ['Lea Cohausz'], 'short-papers'), ('42', 'An Evaluation of code2vec Embeddings for Scratch', ['Benedikt Fein', 'Isabella Graßl', 'Florian Beck', 'Gordon Fraser'], 'short-papers'), ('43', 'Investigating the effect of Automated Feedback on learning behavior in MOOCs for programming', ['Hagit Gabbay', 'Anat Cohen'], 'short-papers'), ('45', 'Data-driven goal setting: Searching optimal badges in the decision forest', ['Julian Langenhagen'], 'short-papers'), ('52', 'Improving problem detection in peer assessment through pseudo-labeling using semi-supervised learning', ['Chengyuan Liu', 'Jialin Cui', 'Ruixuan Shang', 'Yunkai Xiao', 'Qinjin Jia', 'Edward Gehringer'], 'short-papers'), ('59', 'Evaluating Gaming Detector Models For Robustness Over Time', ['Nathan Levin', 'Ryan Baker', 'Nidhi Nasiar', 'Stephen Fancsali', 'Stephen Hutt'], 'short-papers'), ('69', 'Characterizing joint attention dynamics during collaborative problem-solving in an immersive astronomy simulation', ['Yiqiu Zhou', 'Jina Kang'], 'short-papers'), ('72', 'Can Population-based Engagement improve Personalisation? A Novel Dataset, Baselines and Experiments', ['Sahan Bulathwela', 'Meghana Verma', 'María Pérez Ortiz', 'Emine Yilmaz', 'John Shawe-Taylor'], 'short-papers'), ('74', 'Is there Method in Your Mistakes? Capturing Error Contexts by Graph Mining for Targeted Feedback', ['Maximilian Jahnke', 'Frank Höppner'], 'short-papers'), ('82', 'Log mining for course recommendation in limited information scenarios', ['Juan Sanguino', 'Ruben Manrique', 'Olga Mariño', 'Mario Linares', 'Nicolas Cardozo'], 'short-papers'), ('93', 'Using Machine Learning Explainability Methods to Personalize Interventions for Students', ['Paul Hur', 'HaeJin Lee', 'Suma Bhat', 'Nigel Bosch'], 'short-papers'), ('97', 'Grade Prediction via Prior Grades and Text Mining on Course Descriptions: Course Outlines and Intended Learning Outcomes', ['Jiawei Li', 'S. Supraja', 'Wei Qiu', 'Andy W. H. Khong'], 'short-papers'), ('105', 'From {Solution} Synthesis to {Student Attempt} Synthesis for Block-Based Visual Programming Tasks', ['Adish Singla', 'Nikitas Theodoropoulos'], 'short-papers'), ('107', 'Mining Assignment Submission Time to Detect At-Risk Students with Peer Information', ['Yuancheng Wang', 'Nanyu Luo', 'Jianjun Zhou'], 'short-papers'), ('118', 'Simulating Policy Changes in Prerequisite-Free Curricula: A Supervised Data-Driven Approach', ['Frederik Baucks', 'Laurenz Wiskott'], 'short-papers'), ('120', 'Modeling One-on-one Online Tutoring Discourse using an Accountable Talk Framework', ['Renu Balyan', 'Tracy Arner', 'Karen Taylor', 'Jinnie Shin', 'Michelle Banawan', 'Walter Leite', 'Danielle McNamara'], 'short-papers'), ('126', 'Using Markov Models and Random Walks to Examine Strategy Use of More or Less Successful Comprehenders', ['Katerina Christhilf', 'Natalie Newton', 'Reese Butterfuss', 'Kathryn S. McCarthy', 'Laura K. Allen', 'Joseph P. Magliano', 'Danielle S. McNamara'], 'short-papers'), ('130', 'No Meaning Left Unlearned: Predicting Learners’ Knowledge of Atypical Meanings of Words from Vocabulary Tests for Their Typical Meanings', ['Yo Ehara'], 'short-papers'), ('145', 'Using community-based problems to increase motivation in a data science virtual internship', ['Jillian Johnson', 'Andrew Olney'], 'short-papers'), ('151', 'Admitting you have a problem is the first step: Modeling when and why students seek help in programming assignments.', ['Zhikai Gao', 'Bradley Erickson', 'Yiqiao Xu', 'Collin Lynch', 'Sarah Heckman', 'Tiffany Barnes'], 'short-papers'), ('153', 'Going beyond “Good job”: Analyzing helpful feedback from students’ perspectives.', ['M Parvez Rashid', 'Yunkai Xiao', 'Edward F. Gehringer'], 'short-papers'), ('168', 'The AI Teacher Test: Measuring the Pedagogical Ability of Blender and GPT-3 in Educational Dialogues', ['Anaïs Tack', 'Chris Piech'], 'short-papers'), ('195', 'Automatic Classification of Learning Objectives Based on Bloom’s Taxonomy', ['Yuheng Li', 'Mladen Rakovic', 'Boon Xin Poh', 'Dragan Gasevic', 'Guanliang Chen'], 'short-papers'), ('6', 'Skills Taught vs Skills Sought: Using Skills Analytics to Identify the Gaps between Curriculum and Job Markets', ['Alireza Ahadi', 'Kirsty Kitto', 'Marian-Andrei Rizoiu', 'Katarzyna Musial'], 'posters'), ('15', 'DeepIRT with a Hypernetwork to Optimize the Degree of Forgetting of Past Data', ['Emiko Tsutsumi', 'Yiming Guo', 'Maomi Ueno'], 'posters'), ('17', 'Mining and Assessing Anomalies in Students’ Online Learning Activities with Self-supervised Machine Learning', ['Lan Jiang', 'Nigel Bosch'], 'posters'), ('23', 'Faster Confidence Intervals for Item Response Theory via an Approximate Likelihood Profile', ['Benjamin Paaßen', 'Christina Göpfert', 'Niels Pinkwart'], 'posters'), ('26', 'Towards the understanding of cultural differences in between gamification preferences: A data-driven comparison between the US and Brazil', ['Armando Toda', 'Ana Klock', 'Filipe Dwan Pereira', 'Luiz Antonio Rodrigues', 'Paula Toledo Palomino', 'Vinicius Lopes', 'Craig Stewart', 'Elaine H. T. Oliveira', 'Isabela Gasparini', 'Seiji Isotani', 'Alexandra Cristea'], 'posters'), ('33', 'Supervised Machine Learning for Modelling STEM Career and Education Interest in Irish School Children', ['Annika Lindh', 'Keith Quille', 'Aidan Mooney', 'Kevin Marshall', \"Katriona O'Sullivan\"], 'posters'), ('39', 'Equitable Ability Estimation in Neurodivergent Student Populations with Zero-Inflated Learner Models', ['Niall Twomey', 'Sarah McMullan', 'Anat Elhalal', 'Rafael Poyiadzi', 'Luis Vaquero'], 'posters'), ('48', 'Equity and Fairness of Bayesian Knowledge Tracing', ['Sebastian Tschiatschek', 'Maria Knobelsdorf', 'Adish Singla'], 'posters'), ('57', \"Analyzing the Equity of the Brazilian National High School Exam by Validating the Item Response Theory's Invariance\", ['Vitoria Guardieiro', 'Marcos M. Raimundo', 'Jorge Poco'], 'posters'), ('61', 'A deep dive into microphone hardware for recording collaborative group work', ['Mariah Bradford', 'Paige Hansen', 'J. Ross Beveridge', 'Nikhil Krishnaswamy', 'Nathaniel Blanchard'], 'posters'), ('67', 'Linguistic Profiles, Question Framing and Performance in a Conversation-based Assessment System', ['Carol Forsyth', 'Jesse Sparks', 'Jonathan Steinberg', 'Laura McCulla'], 'posters'), ('71', 'Does chronology matter? Sequential vs contextual approaches to knowledge tracing', ['Yueqi Wang', 'Zachary Pardos'], 'posters'), ('86', 'Algorithmic unfairness mitigation in student models: When fairer methods lead to unintended results', ['Frank Stinar', 'Nigel Bosch'], 'posters'), ('87', 'The Impact of Semester Gaps on Student Grades', ['Gary Weiss', 'Joseph Denham', 'Daniel Leeds'], 'posters'), ('88', 'Assessing Instructor Effectiveness Based on Future Student Performance', ['Gary Weiss', 'Erik Brown', 'Michael Riad-Zaky', 'Ruby Iannone', 'Daniel Leeds'], 'posters'), ('90', 'Modeling study duration considering course enrollments and student diversity', ['Niels Seidel'], 'posters'), ('91', 'Generalized Sequential Pattern Mining of Undergraduate Courses', ['Daniel Leeds', 'Cody Chen', 'Yijun Zhao', 'Fiza Metla', 'James Guest', 'Gary Weiss'], 'posters'), ('101', 'Employing Tree-based Algorithms to Predict Students’ Self-Efficacy in PISA 2018', ['Bin Tan', 'Maria Cutumisu'], 'posters'), ('102', 'Identifying Longitudinal Attendance Patterns through Student Subpopulation Distribution Comparison', ['Zitong Zhao', 'Pan Deng', 'Jianjun Zhou'], 'posters'), ('103', 'Improved Automated Essay Scoring using Gaussian Multi-Class SMOTE for Dataset Sampling', ['Jih Soong Tan', 'Ian K. T. Tan', 'Lay Ki Soon', 'Huey Fang Ong'], 'posters'), ('110', 'A Topic-Centric Crowdsourced Assisted Biomedical Literature Review Framework for Academics', ['Ryan Hodgson', 'Jingyun Wang', 'Alexandra Cristea', 'Fumiko Matsuzaki', 'Hiroyuki Kubota'], 'posters'), ('115', 'Personalized and Explainable Course Recommendations for Students at Risk of Dropping out', ['Kerstin Wagner', 'Agathe Merceron', 'Petra Sauer', 'Niels Pinkwart'], 'posters'), ('119', 'A deep reinforcement learning approach to automatic formative feedback', ['Aubrey Condor', 'Zachary Pardos'], 'posters'), ('124', 'Preliminary Experiments with Transformer based Approaches To Automatically Inferring Domain Models from Textbooks', ['Rabin Banjade', 'Priti Oli', 'Lasang Jimba Tamang', 'Vasile Rus'], 'posters'), ('132', 'E-learning Preparedness: A Key Consideration to Promote Fair Learning Analytics Development in Higher Education', ['Jinnie Shin', 'Okan Bulut', 'Wallace N. Pinto Jr.'], 'posters'), ('136', 'Leveraging Auxiliary Data from Similar Problems to Improve Automatic Open Response Scoring', ['Raysa Rivera-Bergollo', 'Sami Baral', 'Anthony Botelho', 'Neil Heffernan'], 'posters'), ('138', 'Modifying Deep Knowledge Tracing for Multi-step Problems', ['Qiao Zhang', 'Zeyu Chen', 'Natasha Lalwani', 'Christopher MacLellan'], 'posters'), ('157', 'Clustering Students Using Pre-Midterm Behaviour Data and Predict Their Exam Performance', ['Huanyi Chen', 'Paul Ward'], 'posters'), ('162', 'Format-Aware Item Response Theory for Predicting Vocabulary Proficiency', ['Boxuan Ma', 'Gayan Prasad Hettiarachchi', 'Yuji Ando'], 'posters'), ('167', 'Towards Generalized Methods for Automatic Question Generation in Educational Domains', ['Shravya Bhat', 'Huy Nguyen', 'Steven Moore', 'John Stamper', 'Majd Sakr', 'Eric Nyberg'], 'posters'), ('175', 'MOOC-Rec: Instructional Video Clip Recommendation for MOOC Forum Questions', ['Peide Zhu', 'Claudia Hauff', 'Jie Yang'], 'posters'), ('186', 'Automatical Graph-based Knowledge Tracing', ['Ting Long', 'Yunfei Liu', 'Weinan Zhang', 'Wei Xia', 'Zhicheng He', 'Ruiming Tang', 'Yong Yu'], 'posters'), ('187', 'Process-BERT: A Framework for Representation Learning on Educational Process Data', ['Alexander Scarlatos', 'Christopher Brinton', 'Andrew Lan'], 'posters'), ('196', 'Online Item Response Theory (OIRT) - Tracking Student Abilities in Online Learning System', ['Luyao Peng', 'Chengzhi Wei'], 'posters'), ('200', 'Looking for the best data fusion model in Smart Learning Environments for detecting at risk university students ', ['Cristobal Romero', 'Wilson Chango', 'Rebeca Cerezo'], 'posters'), ('202', 'Distance measure between instructor-recommended and learner’s learning pathways', ['Marie-Luce Bourguet', 'Yushan Li'], 'posters'), ('205', 'Student Perception on the Effectiveness of On-Demand Assistance in Online Learning Platforms', ['Aaron Haim', 'Neil Heffernan'], 'posters'), ('211', 'Theory-Informed Problem-Solving Sequential Pattern Vis-ualization', ['Zilong Pan', 'Min Liu'], 'posters'), ('214', 'CHUNK Learning: A Tool that Supports Personalized Education', ['Ralucca Gera', \"D'Marie Bartolf\", 'Simona Tick', 'Akrati Saxena'], 'posters'), ('215', 'Do College Students Learn Math the Same Way as Middle School Students? On the Transferability of Findings on Within-Problem Supports in Intelligent Tutoring Systems ', ['Michael Smalenberger', 'Kelly Smalenberger'], 'posters'), ('220', 'Comparison of Learning Behaviors on an e-Book System in 2019 Onsite and 2020 Online Courses', ['Hiroaki Kawashima'], 'posters'), ('221', 'Recommendation System of Mobile Language Learning Applications: Similarity versus Diversity in Learner Preference', ['Juyeong Song', 'Kisu Yang', 'Hyeji Jang', 'Hyo-Jeong So'], 'posters'), ('222', 'A Variant of Performance Factors Analysis Model for Categorization', ['Meng Cao', 'Philip Pavlik'], 'posters'), ('223', 'Selecting Reading Texts Suitable for Incidental Vocabulary Learning by Considering the Estimated Distribution of Acquired Vocabulary', ['Yo Ehara'], 'posters'), ('34', 'Identifying Explanations Within Student-Tutor Chat Logs', ['Ethan Prihar', 'Alexander Moore', 'Neil Heffernan'], 'doctoral-consortium'), ('201', 'Detecting When a Learner Requires Assistance with Programming and Delivering a Useful Hint', ['Marcus Messer'], 'doctoral-consortium'), ('209', 'A Paraphrase Identification Approach in Paragraph length texts', ['Arwa Al Saqaabi', 'Craig Stewart', 'Eleni Akrida', 'Alexandra Cristea'], 'doctoral-consortium'), ('212', 'Investigating learners’ Cognitive Engagement in Python Programming using ICAP framework', ['Daevesh Singh', 'Ramkumar Rajendran'], 'doctoral-consortium'), ('213', 'Improving Automated Assessment and Feedback for Student Open-responses in Mathematics', ['Sami Baral'], 'doctoral-consortium'), ('216', 'Modeling Cognitive Load and Affect to Support Adaptive Online Learning', ['Minghao Cai', 'Carrie Demmans Epp'], 'doctoral-consortium'), ('219', 'Using AI, ML and Sentiment Analysis to Increase Diversity and Equity in Technology Training and Careers', ['Jonathan Young', 'Sue Black', 'Alexandra Cristea', 'Ryan Hodgson', 'Cristina Todor'], 'doctoral-consortium'), ('225', 'Effect of Q-matrix Misspecification on Variational Autoencoders (VAE) for Multidimensional Item Response Theory (MIRT) Models Estimation', ['Mahbubul Hasan', 'Lih Y Deng', 'John Sabatini', 'Dale Bowman', 'Ching-Chi Yang', 'John Hollander'], 'doctoral-consortium'), ('228', 'Towards Personalised Learning of Psychomotor Skills with Data Mining', ['Miguel Portaz', 'Olga C. Santos'], 'doctoral-consortium'), ('5', 'Using a Randomized Experiment to Compare the Performance of Two Adaptive Assessment Engines', ['Jeffrey Matayoshi', 'Hasan Uzun', 'Eric Cosyn'], 'industry-track'), ('24', 'Mining Artificially Generated Data to Estimate Competency', ['Robby Robson', 'Benjamin Goldberg', 'Shelly Blake-Plock', 'Cliff Casey', 'William Hoyt', 'Mike Hernandez', 'Fritz Ray'], 'industry-track'), ('60', '“Closing the Loop” in Educational Data Science with an Open Source Architecture for Large-Scale Field Trials', ['Stephen Fancsali', 'April Murphy', 'Steven Ritter'], 'industry-track'), ('92', 'Estimating the causal effects of Khan Academy Map Accelerator across demographic subgroups', ['Phillip Grimaldi', 'Kodi Weatherholtz', 'Kelli Millwood Hill'], 'industry-track')]"
      ]
     },
     "execution_count": 37,
     "metadata": {},
     "output_type": "execute_result"
    }
   ],
   "source": [
    "accepted.sort(key=paper_cmp_key)\n",
    "accepted"
   ]
  },
  {
   "cell_type": "code",
   "execution_count": null,
   "id": "c6570861",
   "metadata": {},
   "outputs": [],
   "source": []
  }
 ],
 "metadata": {
  "kernelspec": {
   "display_name": "xpython",
   "language": "python",
   "name": "xpython"
  },
  "language_info": {
   "file_extension": ".py",
   "mimetype": "text/x-python",
   "name": "python",
   "version": "3.7.6"
  }
 },
 "nbformat": 4,
 "nbformat_minor": 5
}
