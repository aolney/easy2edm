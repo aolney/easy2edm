{
 "cells": [
  {
   "cell_type": "markdown",
   "id": "428ab9bb",
   "metadata": {},
   "source": [
    "# easy2edm\n",
    "\n",
    "This notebook creates proceedings for the [International Conference on Educational Data Mining](https://educationaldatamining.org/conferences/) using reviewing data from [EasyChair](https://easychair.org).\n",
    "\n",
    "See the [README](README.md) for how to download and structure the data."
   ]
  },
  {
   "cell_type": "code",
   "execution_count": null,
   "id": "56d90302",
   "metadata": {},
   "outputs": [],
   "source": []
  }
 ],
 "metadata": {
  "kernelspec": {
   "display_name": "xpython",
   "language": "python",
   "name": "xpython"
  },
  "language_info": {
   "file_extension": ".py",
   "mimetype": "text/x-python",
   "name": "python",
   "version": "3.7.6"
  }
 },
 "nbformat": 4,
 "nbformat_minor": 5
}
